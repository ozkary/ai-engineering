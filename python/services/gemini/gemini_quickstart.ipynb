{
 "cells": [
  {
   "cell_type": "markdown",
   "metadata": {},
   "source": [
    "# How to use the AI Gemini API\n",
    "\n",
    "## Prerequisites\n",
    "- Use Python 3.9\n",
    "- Install the google-generativeai SDK\n",
    "- Get an API key from Google AI Studio https://aistudio.google.com/app/apikey\n",
    "- Copy your key and move it to the home directory of the VM or device\n"
   ]
  },
  {
   "cell_type": "code",
   "execution_count": 1,
   "metadata": {},
   "outputs": [
    {
     "name": "stdout",
     "output_type": "stream",
     "text": [
      "sys.version_info(major=3, minor=8, micro=10, releaselevel='final', serial=0)\n"
     ]
    }
   ],
   "source": [
    "# verify python 3.9\n",
    "import sys\n",
    "print(sys.version_info)\n",
    "assert sys.version_info >= (3, 8)"
   ]
  },
  {
   "cell_type": "markdown",
   "metadata": {},
   "source": [
    "## Upgrade to Python 3.9 Ubunto\n",
    "\n",
    "- Search if the version of python is available in the current Ubuntu repos\n",
    "\n",
    "```bash\n",
    "apt search python3.9\n",
    "```\n",
    "\n",
    "- if packages are listed. Install with the following command\n",
    "\n",
    "```bash\n",
    "sudo apt install python3.9\n",
    "```"
   ]
  },
  {
   "cell_type": "markdown",
   "metadata": {},
   "source": [
    "## Setup a virtual environment\n",
    "\n",
    "- We recommend the use of a virtual environment to run this.\n",
    "```bash\n",
    "pip install pipenv\n",
    "pipenv shell\n",
    "```\n",
    "\n",
    "> You can run this without `pipenv` by installing only the dependencies locally"
   ]
  },
  {
   "cell_type": "markdown",
   "metadata": {},
   "source": [
    "## Install the Gemini API dependencies from the terminal\n",
    "\n",
    "- Use PIPEnv to update the depencies\n",
    "```bash\n",
    "pipenv shell\n",
    "pipenv sync\n",
    "```\n",
    "- Or manually install the dependencies (No pipEnv)\n",
    "\n",
    "## Install the API requests module\n",
    "```bash\n",
    "pipenv install -q google-generativeai\n",
    "pipenv install requests\n",
    "```\n"
   ]
  },
  {
   "cell_type": "markdown",
   "metadata": {},
   "source": [
    "## Get your API key from Google AI Studio\n",
    "\n",
    "[https://aistudio.google.com/app/apikey](https://aistudio.google.com/app/apikey)\n",
    "\n",
    "- Copy the key"
   ]
  },
  {
   "cell_type": "markdown",
   "metadata": {},
   "source": [
    "## Update the API key in your environment\n",
    "\n",
    "- Create a $Home/.gcp folder\n",
    "- Save the API key in the gemini.key file by running this bash file\n",
    "\n",
    "```bash\n",
    "./save_key.sh\n",
    "```\n",
    "\n",
    "The new environment variable, GEMINI_API_KEY, should now be loaded\n",
    "\n",
    "> For production environments, set the correct permissions for that file or use a keyvault (recommended)\n"
   ]
  }
 ],
 "metadata": {
  "kernelspec": {
   "display_name": "Python 3",
   "language": "python",
   "name": "python3"
  },
  "language_info": {
   "codemirror_mode": {
    "name": "ipython",
    "version": 3
   },
   "file_extension": ".py",
   "mimetype": "text/x-python",
   "name": "python",
   "nbconvert_exporter": "python",
   "pygments_lexer": "ipython3",
   "version": "3.8.10"
  }
 },
 "nbformat": 4,
 "nbformat_minor": 2
}

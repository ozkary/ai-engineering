{
 "cells": [
  {
   "attachments": {},
   "cell_type": "markdown",
   "metadata": {},
   "source": [
    "# OpenAI on Jupyter Notebook User Stories Code Generator"
   ]
  },
  {
   "attachments": {},
   "cell_type": "markdown",
   "metadata": {},
   "source": [
    "## Import the dependencies and Set the openai API key"
   ]
  },
  {
   "cell_type": "code",
   "execution_count": 4,
   "metadata": {},
   "outputs": [],
   "source": [
    "from build_prompt import generate_response, build_prompt"
   ]
  },
  {
   "attachments": {},
   "cell_type": "markdown",
   "metadata": {},
   "source": [
    "## Run Code Generation Examples\n",
    "\n",
    "### Create a SQL table "
   ]
  },
  {
   "cell_type": "code",
   "execution_count": null,
   "metadata": {},
   "outputs": [],
   "source": [
    "context = 'As a data engineer, I would like to build a table on bigquery with the technologies and description listed below'\n",
    "technologies = 'SQL'\n",
    "description= 'The table has these columns  log_id int, zone_id int, total int, created datetime with a partition on created and cluster on zone_id'\n",
    "result= 'As the copilot, you should create the sql script and name the table fact_zone'\n",
    "\n",
    "prompt = build_prompt(context, technologies, description, result)\n",
    "\n",
    "print(\"Result: \", result)\n",
    "# with text_output:    \n",
    "response_text = generate_response(prompt)\n",
    "print(\"Response: \" + response_text)       \n"
   ]
  },
  {
   "attachments": {},
   "cell_type": "markdown",
   "metadata": {},
   "source": [
    "### Create a Reactjs Component"
   ]
  },
  {
   "cell_type": "code",
   "execution_count": null,
   "metadata": {},
   "outputs": [],
   "source": [
    "context = 'As a web developer, I would like to Build a Reactjs component'\n",
    "technologies = 'reactjs'\n",
    "description= 'Build a react component that display two text boxes with labels email and phone. Add a button with a confirm label. This component should use hooks.'\n",
    "result= 'As a copilot, you should create the jsx component'\n",
    "\n",
    "prompt = build_prompt(context, technologies, description, result)\n",
    "print(\"Result: \", result)\n",
    "\n",
    "# with text_output:    \n",
    "response_text = generate_response(prompt)\n",
    "print(\"Response: \" + response_text)    \n"
   ]
  },
  {
   "attachments": {},
   "cell_type": "markdown",
   "metadata": {},
   "source": [
    "## Create a C# Kafka Consumer"
   ]
  },
  {
   "cell_type": "code",
   "execution_count": null,
   "metadata": {},
   "outputs": [],
   "source": [
    "context = 'As a API developer, I would like to build a Kafka consumer'\n",
    "technologies = '.net, csharp, kafka'\n",
    "description= 'Build a csharp Kafka consumer class that reads json messages from a topic labeled telemetry. The code should show how to deserialize the message.'\n",
    "result= 'As a copilot, you should create the code for the Kafka consumer'\n",
    "\n",
    "prompt = build_prompt(context, technologies, description, result)\n",
    "print(\"Result: \", result)\n",
    "\n",
    "# with text_output:    \n",
    "response_text = generate_response(prompt)\n",
    "print(\"Response: \" + response_text)  "
   ]
  },
  {
   "attachments": {},
   "cell_type": "markdown",
   "metadata": {},
   "source": [
    "## Create a Python Script to transform a pandas data frame by joining two columns into one"
   ]
  },
  {
   "cell_type": "code",
   "execution_count": null,
   "metadata": {},
   "outputs": [],
   "source": [
    "context = 'As a data scientist, I would like to build a python script that transforms a dataframe'\n",
    "technologies = 'python, pandas'\n",
    "description= 'Transform a dataframe with the columns labeled log_id, zone_id, date, time by joining the date and time columns into a datetime column with the name of created. The created column should have a datetime type. The zone_id column should be an integer. The log_id column should be an integer. The total column should be an integer, drop the date and time columns and show the first ten rows'\n",
    "result= 'As a copilot, you should create the python code that uses a sample csv file to create the data frame and then transform the data frame as described above.'\n",
    "\n",
    "prompt = build_prompt(context, technologies, description, result)\n",
    "print(\"Result: \", result)\n",
    "\n",
    "# with text_output:    \n",
    "response_text = generate_response(prompt)\n",
    "print(\"Response: \" + response_text)  "
   ]
  },
  {
   "cell_type": "code",
   "execution_count": null,
   "metadata": {},
   "outputs": [],
   "source": [
    "context = 'As a data scientist, I would like to build a python script that transforms a dataframe'\n",
    "technologies = 'python, pandas'\n",
    "description= 'Transform a dataframe with the columns labeled log_id, zone_id, date, time by joining the date and time columns into a datetime column with the name of created. The created column should have a datetime type. The zone_id column should be an integer. The log_id column should be an integer. The total column should be an integer, drop the date and time columns and show the first ten rows'\n",
    "result= 'As a copilot, you should create the python code that uses a sample csv file to create the data frame and then transform the data frame as described above.'\n"
   ]
  }
 ],
 "metadata": {
  "kernelspec": {
   "display_name": "Python 3 (ipykernel)",
   "language": "python",
   "name": "python3"
  },
  "language_info": {
   "codemirror_mode": {
    "name": "ipython",
    "version": 3
   },
   "file_extension": ".py",
   "mimetype": "text/x-python",
   "name": "python",
   "nbconvert_exporter": "python",
   "pygments_lexer": "ipython3",
   "version": "3.8.10"
  },
  "orig_nbformat": 4
 },
 "nbformat": 4,
 "nbformat_minor": 2
}

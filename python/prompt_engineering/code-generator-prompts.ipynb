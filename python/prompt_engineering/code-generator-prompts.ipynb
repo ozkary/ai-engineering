{
 "cells": [
  {
   "attachments": {},
   "cell_type": "markdown",
   "metadata": {},
   "source": [
    "# OpenAI on Jupyter Notebook User Stories Code Generator"
   ]
  },
  {
   "attachments": {},
   "cell_type": "markdown",
   "metadata": {},
   "source": [
    "## Import the dependencies and Set the openai API key"
   ]
  },
  {
   "cell_type": "code",
   "execution_count": 1,
   "metadata": {},
   "outputs": [],
   "source": [
    "from build_prompt import build_message_prompt,build_prompt, AzureOpenAIService\n",
    "\n",
    "client = AzureOpenAIService(model='GPT-4')\n",
    "\n",
    "def process_prompt(client, prompt):    \n",
    "    print(\"Prompt: \", prompt)\n",
    "    # with text_output:    \n",
    "    response_text = client.create(prompt)\n",
    "    print(\"Response: \" + response_text)       "
   ]
  },
  {
   "cell_type": "markdown",
   "metadata": {},
   "source": [
    "## User story prompts\n",
    "\n",
    "```python\n",
    "As a [user role], I want to [desire/need] so that [reason/purpose].\n",
    "```"
   ]
  },
  {
   "cell_type": "code",
   "execution_count": 2,
   "metadata": {},
   "outputs": [
    {
     "name": "stdout",
     "output_type": "stream",
     "text": [
      "Prompt:  Can you explain the key components of a use story for software development tasks\n",
      "Response: Certainly! User stories are a fundamental component in Agile software development and serve as a simple, yet powerful, way to capture product functionality from the end user's perspective. They help teams focus on delivering value to their users. A well-crafted user story consists of several key components that ensure clarity, understandability, and actionability. Here are the core elements:\n",
      "\n",
      "1. **Title**: A brief, descriptive title gives an overview of the story's objective. It should be concise and indicative of the story's content.\n",
      "\n",
      "2. **User Role (Who)**: This component identifies the user or the role of the person who will benefit from the story. Clearly defining the user helps the development team understand for whom they are creating value. Examples include \"As a [type of user],\".\n",
      "\n",
      "3. **Desire/Need (What)**: This part of the story specifies what the user wants to achieve or what need must be fulfilled. It focuses on the goal or the functionality the user is seeking, without dictating how the solution should be implemented.\n",
      "\n",
      "4. **Reason/Purpose (Why)**: Here, the rationale behind the user's need or desire is explained. Understanding the \"why\" helps the development team grasp the importance of the story and can guide them in making decisions that align with the user's underlying motivation.\n",
      "\n",
      "5. **Acceptance Criteria**: This is a critical component that outlines the specific conditions that must be met for the story to be considered complete. Acceptance criteria provide a clear, concise, and agreed-upon list of requirements that the solution must fulfill. They help in removing ambiguity, guiding development, facilitating testing, and ensuring that the outcome meets the user's expectations.\n",
      "\n",
      "6. **Priority**: While not always included within the text of the user story itself, the priority level helps the team understand where the story fits in the overall project timeline. It guides the team in deciding the order of implementation based on factors like user value, dependencies, and strategic goals.\n",
      "\n",
      "7. **Estimate**: Another element often associated with user stories but not included in their text is the estimate. This is where the team assesses how much effort, time, and resources will be required to implement the story. Estimates help in planning sprints and managing workload.\n",
      "\n",
      "A typical user story format combines the first three components (Who, What, Why) into a single sentence structured as follows:\n",
      "\n",
      "\"As a [user role], I want to [desire/need] so that [reason/purpose].\"\n",
      "\n",
      "For example:\n",
      "\n",
      "\"As a frequent flyer, I want to easily check-in for my flights via a mobile app so that I can save time at the airport.\"\n",
      "\n",
      "By focusing on these key components, user stories facilitate communication between stakeholders, help prioritize development tasks based on user needs, and ensure that the product development process remains user-centered.\n"
     ]
    }
   ],
   "source": [
    "prompt = \"Can you explain the key components of a use story for software development tasks\"\n",
    "process_prompt(client,prompt)\n"
   ]
  },
  {
   "attachments": {},
   "cell_type": "markdown",
   "metadata": {},
   "source": [
    "## Run Code Generation Examples\n",
    "\n",
    "### Create a SQL table "
   ]
  },
  {
   "cell_type": "code",
   "execution_count": 2,
   "metadata": {},
   "outputs": [
    {
     "name": "stdout",
     "output_type": "stream",
     "text": [
      "Prompt:  Context: As a data engineer, I would like to build a table on bigquery with the technologies and description listed below, Technologies: SQL, Description : The table has these columns  log_id int, zone_id int, total int, created datetime with a partition on created and cluster on zone_id, Result : As the copilot, you should create the sql script and name the table fact_zone\n",
      "ChatCompletion(id='chatcmpl-9en1u1URZWS8lAMRrrJyeYZk33SGp', choices=[Choice(finish_reason='stop', index=0, logprobs=None, message=ChatCompletionMessage(content=\"To create the table `fact_zone` in BigQuery with the specified columns and partitioning/clustering requirements, you can use the following SQL script. This script assumes you are already using the BigQuery web UI, CLI, or any client library that allows SQL execution.\\n\\n```sql\\nCREATE TABLE fact_zone (\\n  log_id INT64,\\n  zone_id INT64,\\n  total INT64,\\n  created DATETIME\\n)\\nPARTITION BY DATE(created)\\nCLUSTER BY zone_id;\\n```\\n\\nPlease note the following:\\n\\n- BigQuery uses the `INT64` type for integers, which corresponds to the `int` type you mentioned.\\n- The `PARTITION BY DATE(created)` clause specifies that the table should be partitioned by the `created` column. Since the `created` column is of type `DATETIME`, and BigQuery's partitioning requires a `DATE` type for time-based partitioning, this assumes an implicit conversion that aligns with your requirements. If you specifically need to partition by `DATETIME`, you might consider using ingestion-time partitioning or consider if your use case allows partitioning by `DATE` instead.\\n- The `CLUSTER BY zone_id` clause specifies that within each partition, the data should be clustered by the `zone_id` column, which can improve query performance and cost efficiency when filtering by this column.\\n\\nBefore running this script, ensure that you have the necessary permissions to create tables in your BigQuery dataset and that your dataset is selected or specified in your query. If you need to specify a dataset other than your default, you can prefix the table name with the dataset name, like so: `your_dataset_name.fact_zone`.\", role='assistant', function_call=None, tool_calls=None), content_filter_results={'hate': {'filtered': False, 'severity': 'safe'}, 'self_harm': {'filtered': False, 'severity': 'safe'}, 'sexual': {'filtered': False, 'severity': 'safe'}, 'violence': {'filtered': False, 'severity': 'safe'}})], created=1719508618, model='gpt-4', object='chat.completion', system_fingerprint='fp_811936bd4f', usage=CompletionUsage(completion_tokens=339, prompt_tokens=87, total_tokens=426), prompt_filter_results=[{'prompt_index': 0, 'content_filter_results': {'hate': {'filtered': False, 'severity': 'safe'}, 'self_harm': {'filtered': False, 'severity': 'safe'}, 'sexual': {'filtered': False, 'severity': 'safe'}, 'violence': {'filtered': False, 'severity': 'safe'}}}])\n",
      "Response: To create the table `fact_zone` in BigQuery with the specified columns and partitioning/clustering requirements, you can use the following SQL script. This script assumes you are already using the BigQuery web UI, CLI, or any client library that allows SQL execution.\n",
      "\n",
      "```sql\n",
      "CREATE TABLE fact_zone (\n",
      "  log_id INT64,\n",
      "  zone_id INT64,\n",
      "  total INT64,\n",
      "  created DATETIME\n",
      ")\n",
      "PARTITION BY DATE(created)\n",
      "CLUSTER BY zone_id;\n",
      "```\n",
      "\n",
      "Please note the following:\n",
      "\n",
      "- BigQuery uses the `INT64` type for integers, which corresponds to the `int` type you mentioned.\n",
      "- The `PARTITION BY DATE(created)` clause specifies that the table should be partitioned by the `created` column. Since the `created` column is of type `DATETIME`, and BigQuery's partitioning requires a `DATE` type for time-based partitioning, this assumes an implicit conversion that aligns with your requirements. If you specifically need to partition by `DATETIME`, you might consider using ingestion-time partitioning or consider if your use case allows partitioning by `DATE` instead.\n",
      "- The `CLUSTER BY zone_id` clause specifies that within each partition, the data should be clustered by the `zone_id` column, which can improve query performance and cost efficiency when filtering by this column.\n",
      "\n",
      "Before running this script, ensure that you have the necessary permissions to create tables in your BigQuery dataset and that your dataset is selected or specified in your query. If you need to specify a dataset other than your default, you can prefix the table name with the dataset name, like so: `your_dataset_name.fact_zone`.\n"
     ]
    }
   ],
   "source": [
    "context = 'As a data engineer, I would like to build a table on bigquery with the technologies and description listed below'\n",
    "technologies = 'SQL'\n",
    "description= \"\"\"The table has these columns  log_id int, zone_id int, total int, created datetime with a partition on created and cluster on zone_id\"\"\"\n",
    "result= 'As the copilot, you should create the sql script and name the table fact_zone'\n",
    "\n",
    "prompt = build_message_prompt(context, technologies, description, result)\n",
    "\n",
    "print(\"Prompt: \", prompt)\n",
    "# with text_output:    \n",
    "response_text = client.create(prompt)\n",
    "print(\"Response: \" + response_text)       \n"
   ]
  },
  {
   "attachments": {},
   "cell_type": "markdown",
   "metadata": {},
   "source": [
    "### Create a Reactjs Component"
   ]
  },
  {
   "cell_type": "code",
   "execution_count": 4,
   "metadata": {},
   "outputs": [
    {
     "name": "stdout",
     "output_type": "stream",
     "text": [
      "Result:  As a copilot, you should create the jsx component\n",
      "ChatCompletion(id='chatcmpl-9en3MXLApXtzciqUWoRBeD88Ds6Rk', choices=[Choice(finish_reason='stop', index=0, logprobs=None, message=ChatCompletionMessage(content='Certainly! Below is a simple React component that meets your requirements. This component uses the `useState` hook to manage the state of the email and phone input fields. When the \"Confirm\" button is clicked, it simply logs the current state of the email and phone inputs to the console. You can expand upon this functionality as needed.\\n\\n```jsx\\nimport React, { useState } from \\'react\\';\\n\\nfunction ContactForm() {\\n  // Define state hooks for email and phone\\n  const [email, setEmail] = useState(\\'\\');\\n  const [phone, setPhone] = useState(\\'\\');\\n\\n  // Handle input change for email\\n  const handleEmailChange = (e) => {\\n    setEmail(e.target.value);\\n  };\\n\\n  // Handle input change for phone\\n  const handlePhoneChange = (e) => {\\n    setPhone(e.target.value);\\n  };\\n\\n  // Handle confirm button click\\n  const handleConfirm = () => {\\n    // For now, just log the email and phone to the console\\n    console.log(`Email: ${email}, Phone: ${phone}`);\\n    // Here you could add further logic to process the data\\n  };\\n\\n  return (\\n    <div>\\n      <div>\\n        <label htmlFor=\"email\">Email:</label>\\n        <input\\n          type=\"email\"\\n          id=\"email\"\\n          value={email}\\n          onChange={handleEmailChange}\\n        />\\n      </div>\\n      <div>\\n        <label htmlFor=\"phone\">Phone:</label>\\n        <input\\n          type=\"tel\"\\n          id=\"phone\"\\n          value={phone}\\n          onChange={handlePhoneChange}\\n        />\\n      </div>\\n      <button onClick={handleConfirm}>Confirm</button>\\n    </div>\\n  );\\n}\\n\\nexport default ContactForm;\\n```\\n\\nTo use this component, simply import it into your application and include it in your component tree like so:\\n\\n```jsx\\nimport React from \\'react\\';\\nimport ReactDOM from \\'react-dom\\';\\nimport ContactForm from \\'./ContactForm\\'; // Adjust the import path as necessary\\n\\nfunction App() {\\n  return (\\n    <div>\\n      <h1>Contact Information</h1>\\n      <ContactForm />\\n    </div>\\n  );\\n}\\n\\nReactDOM.render(<App />, document.getElementById(\\'root\\'));\\n```\\n\\nThis is a basic implementation. Depending on your requirements, you might want to add form validation, styling, or integrate it with a backend service to store the submitted information.', role='assistant', function_call=None, tool_calls=None), content_filter_results={'hate': {'filtered': False, 'severity': 'safe'}, 'self_harm': {'filtered': False, 'severity': 'safe'}, 'sexual': {'filtered': False, 'severity': 'safe'}, 'violence': {'filtered': False, 'severity': 'safe'}})], created=1719508708, model='gpt-4', object='chat.completion', system_fingerprint='fp_811936bd4f', usage=CompletionUsage(completion_tokens=489, prompt_tokens=89, total_tokens=578), prompt_filter_results=[{'prompt_index': 0, 'content_filter_results': {'hate': {'filtered': False, 'severity': 'safe'}, 'self_harm': {'filtered': False, 'severity': 'safe'}, 'sexual': {'filtered': False, 'severity': 'safe'}, 'violence': {'filtered': False, 'severity': 'safe'}}}])\n",
      "Response: Certainly! Below is a simple React component that meets your requirements. This component uses the `useState` hook to manage the state of the email and phone input fields. When the \"Confirm\" button is clicked, it simply logs the current state of the email and phone inputs to the console. You can expand upon this functionality as needed.\n",
      "\n",
      "```jsx\n",
      "import React, { useState } from 'react';\n",
      "\n",
      "function ContactForm() {\n",
      "  // Define state hooks for email and phone\n",
      "  const [email, setEmail] = useState('');\n",
      "  const [phone, setPhone] = useState('');\n",
      "\n",
      "  // Handle input change for email\n",
      "  const handleEmailChange = (e) => {\n",
      "    setEmail(e.target.value);\n",
      "  };\n",
      "\n",
      "  // Handle input change for phone\n",
      "  const handlePhoneChange = (e) => {\n",
      "    setPhone(e.target.value);\n",
      "  };\n",
      "\n",
      "  // Handle confirm button click\n",
      "  const handleConfirm = () => {\n",
      "    // For now, just log the email and phone to the console\n",
      "    console.log(`Email: ${email}, Phone: ${phone}`);\n",
      "    // Here you could add further logic to process the data\n",
      "  };\n",
      "\n",
      "  return (\n",
      "    <div>\n",
      "      <div>\n",
      "        <label htmlFor=\"email\">Email:</label>\n",
      "        <input\n",
      "          type=\"email\"\n",
      "          id=\"email\"\n",
      "          value={email}\n",
      "          onChange={handleEmailChange}\n",
      "        />\n",
      "      </div>\n",
      "      <div>\n",
      "        <label htmlFor=\"phone\">Phone:</label>\n",
      "        <input\n",
      "          type=\"tel\"\n",
      "          id=\"phone\"\n",
      "          value={phone}\n",
      "          onChange={handlePhoneChange}\n",
      "        />\n",
      "      </div>\n",
      "      <button onClick={handleConfirm}>Confirm</button>\n",
      "    </div>\n",
      "  );\n",
      "}\n",
      "\n",
      "export default ContactForm;\n",
      "```\n",
      "\n",
      "To use this component, simply import it into your application and include it in your component tree like so:\n",
      "\n",
      "```jsx\n",
      "import React from 'react';\n",
      "import ReactDOM from 'react-dom';\n",
      "import ContactForm from './ContactForm'; // Adjust the import path as necessary\n",
      "\n",
      "function App() {\n",
      "  return (\n",
      "    <div>\n",
      "      <h1>Contact Information</h1>\n",
      "      <ContactForm />\n",
      "    </div>\n",
      "  );\n",
      "}\n",
      "\n",
      "ReactDOM.render(<App />, document.getElementById('root'));\n",
      "```\n",
      "\n",
      "This is a basic implementation. Depending on your requirements, you might want to add form validation, styling, or integrate it with a backend service to store the submitted information.\n"
     ]
    }
   ],
   "source": [
    "context = 'As a web developer, I would like to Build a Reactjs component'\n",
    "technologies = 'reactjs'\n",
    "description= 'Build a react component that display two text boxes with labels email and phone. Add a button with a confirm label. This component should use hooks.'\n",
    "result= 'As a copilot, you should create the jsx component'\n",
    "\n",
    "prompt = build_prompt(context, technologies, description, result)\n",
    "print(\"Result: \", result)\n",
    "\n",
    "# with text_output:    \n",
    "response_text = client.create(prompt)\n",
    "print(\"Response: \" + response_text)    \n"
   ]
  },
  {
   "attachments": {},
   "cell_type": "markdown",
   "metadata": {},
   "source": [
    "## Create a C# Kafka Consumer"
   ]
  },
  {
   "cell_type": "code",
   "execution_count": null,
   "metadata": {},
   "outputs": [],
   "source": [
    "context = 'As a API developer, I would like to build a Kafka consumer'\n",
    "technologies = '.net, csharp, kafka'\n",
    "description= 'Build a csharp Kafka consumer class that reads json messages from a topic labeled telemetry. The code should show how to deserialize the message.'\n",
    "result= 'As a copilot, you should create the code for the Kafka consumer'\n",
    "\n",
    "prompt = build_prompt(context, technologies, description, result)\n",
    "print(\"Result: \", result)\n",
    "\n",
    "# with text_output:    \n",
    "response_text = client.create(prompt)\n",
    "print(\"Response: \" + response_text)  "
   ]
  },
  {
   "attachments": {},
   "cell_type": "markdown",
   "metadata": {},
   "source": [
    "## Create a Python Script to transform a pandas data frame by joining two columns into one"
   ]
  },
  {
   "cell_type": "code",
   "execution_count": null,
   "metadata": {},
   "outputs": [],
   "source": [
    "context = 'As a data scientist, I would like to build a python script that transforms a dataframe'\n",
    "technologies = 'python, pandas'\n",
    "description= 'Transform a dataframe with the columns labeled log_id, zone_id, date, time by joining the date and time columns into a datetime column with the name of created. The created column should have a datetime type. The zone_id column should be an integer. The log_id column should be an integer. The total column should be an integer, drop the date and time columns and show the first ten rows'\n",
    "result= 'As a copilot, you should create the python code that uses a sample csv file to create the data frame and then transform the data frame as described above.'\n",
    "\n",
    "prompt = build_prompt(context, technologies, description, result)\n",
    "print(\"Result: \", result)\n",
    "\n",
    "# with text_output:    \n",
    "response_text = client.create(prompt)\n",
    "print(\"Response: \" + response_text)  "
   ]
  },
  {
   "cell_type": "code",
   "execution_count": null,
   "metadata": {},
   "outputs": [],
   "source": [
    "context = 'As a data scientist, I would like to build a python script that transforms a dataframe'\n",
    "technologies = 'python, pandas'\n",
    "description= 'Transform a dataframe with the columns labeled log_id, zone_id, date, time by joining the date and time columns into a datetime column with the name of created. The created column should have a datetime type. The zone_id column should be an integer. The log_id column should be an integer. The total column should be an integer, drop the date and time columns and show the first ten rows'\n",
    "result= 'As a copilot, you should create the python code that uses a sample csv file to create the data frame and then transform the data frame as described above.'\n"
   ]
  }
 ],
 "metadata": {
  "kernelspec": {
   "display_name": "Python 3 (ipykernel)",
   "language": "python",
   "name": "python3"
  },
  "language_info": {
   "codemirror_mode": {
    "name": "ipython",
    "version": 3
   },
   "file_extension": ".py",
   "mimetype": "text/x-python",
   "name": "python",
   "nbconvert_exporter": "python",
   "pygments_lexer": "ipython3",
   "version": "3.9.5"
  },
  "orig_nbformat": 4
 },
 "nbformat": 4,
 "nbformat_minor": 2
}
